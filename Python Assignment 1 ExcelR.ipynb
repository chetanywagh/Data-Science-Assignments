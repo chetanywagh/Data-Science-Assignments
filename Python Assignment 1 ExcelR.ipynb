{
 "cells": [
  {
   "cell_type": "code",
   "execution_count": 1,
   "id": "5bbd2445-8829-41ef-b2e0-9939a0662732",
   "metadata": {},
   "outputs": [
    {
     "name": "stdin",
     "output_type": "stream",
     "text": [
      " Enter the number  43\n"
     ]
    },
    {
     "name": "stdout",
     "output_type": "stream",
     "text": [
      " These is prime number \n"
     ]
    }
   ],
   "source": [
    "# Prime number or not\n",
    "number = int(input(\" Enter the number \"))\n",
    "\n",
    "if number%2!=0:\n",
    "    print(\" These is prime number \")\n",
    "elif number==2:\n",
    "    print(\"These is prime number \")\n",
    "elif number==1:\n",
    "    print(\"These is prime number \")\n",
    "else:\n",
    "    print(\" These is not Prime number \")"
   ]
  },
  {
   "cell_type": "code",
   "execution_count": 5,
   "id": "93f3b9e7-6e08-4823-b510-7d7a9fcb1ddc",
   "metadata": {},
   "outputs": [
    {
     "name": "stdout",
     "output_type": "stream",
     "text": [
      "What is the product of 1 and 4?\n"
     ]
    },
    {
     "name": "stdin",
     "output_type": "stream",
     "text": [
      "Enter your answer:  6\n"
     ]
    },
    {
     "name": "stdout",
     "output_type": "stream",
     "text": [
      "Incorrect. The correct answer is 4.\n",
      "The product is calculated as 1 × 4  = 4.\n"
     ]
    }
   ],
   "source": [
    "# Genrate two random number and user ask to answer the product of genrate two number and answer is correct answer so display output correct otherwise display wrong answer.\n",
    "\n",
    "import random\n",
    "\n",
    "num1 = random.randint(1,10)\n",
    "num2 = random.randint(1,10)\n",
    "\n",
    "print(f\"What is the product of {num1} and {num2}?\")\n",
    "user_answer = input(\"Enter your answer: \")\n",
    "\n",
    "correct_answer = num1*num2\n",
    "\n",
    "try:\n",
    "    if int(user_answer) == correct_answer:\n",
    "        print(\"Your Answer is Correct\")\n",
    "    else:\n",
    "        print(f\"Incorrect. The correct answer is {correct_answer}.\")\n",
    "        print(f\"The product is calculated as {num1} × {num2}  = {correct_answer}.\")\n",
    "except ValueError:\n",
    "    print(\"Please enter valid answer\")\n"
   ]
  },
  {
   "cell_type": "code",
   "execution_count": 11,
   "id": "61b96f38-f968-460c-a617-930d4da22265",
   "metadata": {},
   "outputs": [
    {
     "name": "stdout",
     "output_type": "stream",
     "text": [
      "The square of 100 is 10000\n",
      "The square of 102 is 10404\n",
      "The square of 104 is 10816\n",
      "The square of 106 is 11236\n",
      "The square of 108 is 11664\n",
      "The square of 110 is 12100\n",
      "The square of 112 is 12544\n",
      "The square of 114 is 12996\n",
      "The square of 116 is 13456\n",
      "The square of 118 is 13924\n",
      "The square of 120 is 14400\n",
      "The square of 122 is 14884\n",
      "The square of 124 is 15376\n",
      "The square of 126 is 15876\n",
      "The square of 128 is 16384\n",
      "The square of 130 is 16900\n",
      "The square of 132 is 17424\n",
      "The square of 134 is 17956\n",
      "The square of 136 is 18496\n",
      "The square of 138 is 19044\n",
      "The square of 140 is 19600\n",
      "The square of 142 is 20164\n",
      "The square of 144 is 20736\n",
      "The square of 146 is 21316\n",
      "The square of 148 is 21904\n",
      "The square of 150 is 22500\n",
      "The square of 152 is 23104\n",
      "The square of 154 is 23716\n",
      "The square of 156 is 24336\n",
      "The square of 158 is 24964\n",
      "The square of 160 is 25600\n",
      "The square of 162 is 26244\n",
      "The square of 164 is 26896\n",
      "The square of 166 is 27556\n",
      "The square of 168 is 28224\n",
      "The square of 170 is 28900\n",
      "The square of 172 is 29584\n",
      "The square of 174 is 30276\n",
      "The square of 176 is 30976\n",
      "The square of 178 is 31684\n",
      "The square of 180 is 32400\n",
      "The square of 182 is 33124\n",
      "The square of 184 is 33856\n",
      "The square of 186 is 34596\n",
      "The square of 188 is 35344\n",
      "The square of 190 is 36100\n",
      "The square of 192 is 36864\n",
      "The square of 194 is 37636\n",
      "The square of 196 is 38416\n",
      "The square of 198 is 39204\n",
      "The square of 200 is 40000\n"
     ]
    }
   ],
   "source": [
    "# This script prints the squares of all even numbers within the range of 100 to 200.\n",
    "\n",
    "# Define the range\n",
    "start = 100\n",
    "end = 200\n",
    "\n",
    "# Iterate through the range\n",
    "for number in range(start, end + 1):\n",
    "    # Check if the number is even\n",
    "    if number % 2 == 0:\n",
    "        # Print the square of the number\n",
    "        print(f\"The square of {number} is {number ** 2}\")\n",
    "\n",
    "# or\n",
    "\n",
    "# for even number\n",
    "\n",
    "# for i in range(100,201):\n",
    "#     if i%2==0:\n",
    "#         print(f\"The square of {i} is {i ** 2}\")\n",
    "\n",
    "# # for odd number\n",
    "# for i in range(100,201):\n",
    "#     if i%2!=0:\n",
    "#         print(f\"The square of {i} is {i ** 2}\")\n"
   ]
  },
  {
   "cell_type": "code",
   "execution_count": 13,
   "id": "f1db4a78-8f8c-4dca-8c79-02a529d6e621",
   "metadata": {},
   "outputs": [
    {
     "name": "stdout",
     "output_type": "stream",
     "text": [
      "'this': 1\n",
      "'is': 1\n",
      "'a': 1\n",
      "'sample': 1\n",
      "'text': 2\n",
      "'$this': 1\n",
      "'will': 1\n",
      "'be': 1\n",
      "'used': 1\n",
      "'to': 1\n",
      "'demonstrate': 1\n",
      "'the': 1\n",
      "'word': 1\n",
      "'counter': 1\n"
     ]
    }
   ],
   "source": [
    "# Program to count the number of words in a given text\n",
    "from collections import Counter\n",
    "\n",
    "input_text = \"This is a sample text. $This text will be used to demonstrate the word &counter .\"\n",
    "\n",
    "input_text = input_text.lower()\n",
    "\n",
    "punctuation = \"&,.,!?;:'\\\"()[]{}-\"\n",
    "for char in punctuation:\n",
    "    input_text = input_text.replace(char, \"\")\n",
    "\n",
    "words = input_text.split()\n",
    "\n",
    "word_count = Counter(words)\n",
    "\n",
    "for word, count in word_count.items():\n",
    "    print(f\"'{word}': {count}\")\n"
   ]
  },
  {
   "cell_type": "code",
   "execution_count": 15,
   "id": "2339ea68-31c4-4332-ac62-221a0f05650d",
   "metadata": {},
   "outputs": [
    {
     "name": "stdin",
     "output_type": "stream",
     "text": [
      "Enter The Name:  aba\n"
     ]
    },
    {
     "name": "stdout",
     "output_type": "stream",
     "text": [
      " These is palindrome \n"
     ]
    }
   ],
   "source": [
    "# Check palindrome or not\n",
    "\n",
    "user = input(\"Enter The Name: \")\n",
    "user = user.replace(\" \",\"\")\n",
    "if user.lower()==user[::-1].lower():\n",
    "    print(\" These is palindrome \")\n",
    "else:\n",
    "    print(\"These is not palindrome \")"
   ]
  },
  {
   "cell_type": "code",
   "execution_count": null,
   "id": "7050163c-5022-42b4-929c-5fb3e39fdbfb",
   "metadata": {},
   "outputs": [],
   "source": []
  }
 ],
 "metadata": {
  "kernelspec": {
   "display_name": "Python [conda env:base] *",
   "language": "python",
   "name": "conda-base-py"
  },
  "language_info": {
   "codemirror_mode": {
    "name": "ipython",
    "version": 3
   },
   "file_extension": ".py",
   "mimetype": "text/x-python",
   "name": "python",
   "nbconvert_exporter": "python",
   "pygments_lexer": "ipython3",
   "version": "3.12.7"
  }
 },
 "nbformat": 4,
 "nbformat_minor": 5
}
